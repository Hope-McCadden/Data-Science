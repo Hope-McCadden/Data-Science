{
 "cells": [
  {
   "cell_type": "code",
   "execution_count": 1,
   "metadata": {},
   "outputs": [],
   "source": [
    "import pandas as pd\n",
    "import numpy as np\n",
    "from scipy.stats import norm\n",
    "from scipy import stats\n",
    "from scipy.stats import boxcox\n",
    "import seaborn as sns\n",
    "from scipy.stats import ttest_ind"
   ]
  },
  {
   "cell_type": "code",
   "execution_count": 2,
   "metadata": {
    "scrolled": true
   },
   "outputs": [
    {
     "data": {
      "text/html": [
       "<div>\n",
       "<style scoped>\n",
       "    .dataframe tbody tr th:only-of-type {\n",
       "        vertical-align: middle;\n",
       "    }\n",
       "\n",
       "    .dataframe tbody tr th {\n",
       "        vertical-align: top;\n",
       "    }\n",
       "\n",
       "    .dataframe thead th {\n",
       "        text-align: right;\n",
       "    }\n",
       "</style>\n",
       "<table border=\"1\" class=\"dataframe\">\n",
       "  <thead>\n",
       "    <tr style=\"text-align: right;\">\n",
       "      <th></th>\n",
       "      <th>show_id</th>\n",
       "      <th>StreamR</th>\n",
       "      <th>release_year</th>\n",
       "      <th>rating</th>\n",
       "      <th>Anime</th>\n",
       "      <th>Family</th>\n",
       "      <th>Classic</th>\n",
       "      <th>Comedies</th>\n",
       "      <th>Cult</th>\n",
       "      <th>Documentaries</th>\n",
       "      <th>Dramas</th>\n",
       "      <th>Horror</th>\n",
       "      <th>Independent</th>\n",
       "      <th>International</th>\n",
       "      <th>Movies</th>\n",
       "      <th>Musicals</th>\n",
       "      <th>Romantic</th>\n",
       "      <th>Sci_Fi</th>\n",
       "      <th>Sports</th>\n",
       "      <th>Stand_Up_Comedy</th>\n",
       "      <th>Thrillers</th>\n",
       "    </tr>\n",
       "  </thead>\n",
       "  <tbody>\n",
       "    <tr>\n",
       "      <th>0</th>\n",
       "      <td>81145628</td>\n",
       "      <td>Movie</td>\n",
       "      <td>2019</td>\n",
       "      <td>TV-PG</td>\n",
       "      <td>0</td>\n",
       "      <td>1</td>\n",
       "      <td>0</td>\n",
       "      <td>0</td>\n",
       "      <td>0</td>\n",
       "      <td>0</td>\n",
       "      <td>0</td>\n",
       "      <td>0</td>\n",
       "      <td>0</td>\n",
       "      <td>0</td>\n",
       "      <td>0</td>\n",
       "      <td>0</td>\n",
       "      <td>0</td>\n",
       "      <td>0</td>\n",
       "      <td>0</td>\n",
       "      <td>0</td>\n",
       "      <td>0</td>\n",
       "    </tr>\n",
       "  </tbody>\n",
       "</table>\n",
       "</div>"
      ],
      "text/plain": [
       "    show_id StreamR  release_year rating  Anime  Family  Classic  Comedies  \\\n",
       "0  81145628   Movie          2019  TV-PG      0       1        0         0   \n",
       "\n",
       "   Cult  Documentaries  Dramas  Horror  Independent  International  Movies  \\\n",
       "0     0              0       0       0            0              0       0   \n",
       "\n",
       "   Musicals  Romantic  Sci_Fi  Sports  Stand_Up_Comedy  Thrillers  \n",
       "0         0         0       0       0                0          0  "
      ]
     },
     "execution_count": 2,
     "metadata": {},
     "output_type": "execute_result"
    }
   ],
   "source": [
    "net = pd.read_csv(\"test.csv\")\n",
    "pd.options.display.max_rows = 10000\n",
    "pd.options.display.max_columns = 10000\n",
    "net.head(1)"
   ]
  },
  {
   "cell_type": "code",
   "execution_count": 3,
   "metadata": {},
   "outputs": [
    {
     "data": {
      "text/html": [
       "<div>\n",
       "<style scoped>\n",
       "    .dataframe tbody tr th:only-of-type {\n",
       "        vertical-align: middle;\n",
       "    }\n",
       "\n",
       "    .dataframe tbody tr th {\n",
       "        vertical-align: top;\n",
       "    }\n",
       "\n",
       "    .dataframe thead th {\n",
       "        text-align: right;\n",
       "    }\n",
       "</style>\n",
       "<table border=\"1\" class=\"dataframe\">\n",
       "  <thead>\n",
       "    <tr style=\"text-align: right;\">\n",
       "      <th>rating</th>\n",
       "      <th>G</th>\n",
       "      <th>NC-17</th>\n",
       "      <th>NR</th>\n",
       "      <th>PG</th>\n",
       "      <th>PG-13</th>\n",
       "      <th>R</th>\n",
       "      <th>TV-14</th>\n",
       "      <th>TV-G</th>\n",
       "      <th>TV-MA</th>\n",
       "      <th>TV-PG</th>\n",
       "      <th>TV-Y</th>\n",
       "      <th>TV-Y7</th>\n",
       "      <th>TV-Y7-FV</th>\n",
       "      <th>UR</th>\n",
       "    </tr>\n",
       "    <tr>\n",
       "      <th>Dramas</th>\n",
       "      <th></th>\n",
       "      <th></th>\n",
       "      <th></th>\n",
       "      <th></th>\n",
       "      <th></th>\n",
       "      <th></th>\n",
       "      <th></th>\n",
       "      <th></th>\n",
       "      <th></th>\n",
       "      <th></th>\n",
       "      <th></th>\n",
       "      <th></th>\n",
       "      <th></th>\n",
       "      <th></th>\n",
       "    </tr>\n",
       "  </thead>\n",
       "  <tbody>\n",
       "    <tr>\n",
       "      <th>0</th>\n",
       "      <td>21</td>\n",
       "      <td>1</td>\n",
       "      <td>126</td>\n",
       "      <td>118</td>\n",
       "      <td>171</td>\n",
       "      <td>295</td>\n",
       "      <td>862</td>\n",
       "      <td>67</td>\n",
       "      <td>1001</td>\n",
       "      <td>349</td>\n",
       "      <td>51</td>\n",
       "      <td>79</td>\n",
       "      <td>41</td>\n",
       "      <td>3</td>\n",
       "    </tr>\n",
       "    <tr>\n",
       "      <th>1</th>\n",
       "      <td>9</td>\n",
       "      <td>0</td>\n",
       "      <td>44</td>\n",
       "      <td>37</td>\n",
       "      <td>57</td>\n",
       "      <td>112</td>\n",
       "      <td>268</td>\n",
       "      <td>26</td>\n",
       "      <td>345</td>\n",
       "      <td>120</td>\n",
       "      <td>21</td>\n",
       "      <td>21</td>\n",
       "      <td>13</td>\n",
       "      <td>3</td>\n",
       "    </tr>\n",
       "  </tbody>\n",
       "</table>\n",
       "</div>"
      ],
      "text/plain": [
       "rating   G  NC-17   NR   PG  PG-13    R  TV-14  TV-G  TV-MA  TV-PG  TV-Y  \\\n",
       "Dramas                                                                     \n",
       "0       21      1  126  118    171  295    862    67   1001    349    51   \n",
       "1        9      0   44   37     57  112    268    26    345    120    21   \n",
       "\n",
       "rating  TV-Y7  TV-Y7-FV  UR  \n",
       "Dramas                       \n",
       "0          79        41   3  \n",
       "1          21        13   3  "
      ]
     },
     "execution_count": 3,
     "metadata": {},
     "output_type": "execute_result"
    }
   ],
   "source": [
    "#Contingency Table\n",
    "net_crosstab = pd.crosstab(net['Dramas'], net['rating'])\n",
    "net_crosstab"
   ]
  },
  {
   "cell_type": "code",
   "execution_count": 4,
   "metadata": {},
   "outputs": [
    {
     "data": {
      "text/plain": [
       "(7.434620065114521,\n",
       " 0.878387821670064,\n",
       " 13,\n",
       " array([[2.24243135e+01, 7.47477118e-01, 1.27071110e+02, 1.15858953e+02,\n",
       "         1.70424783e+02, 3.04223187e+02, 8.44649143e+02, 6.95153720e+01,\n",
       "         1.00610420e+03, 3.50566768e+02, 5.38183525e+01, 7.47477118e+01,\n",
       "         4.03637644e+01, 4.48486271e+00],\n",
       "        [7.57568646e+00, 2.52522882e-01, 4.29288899e+01, 3.91410467e+01,\n",
       "         5.75752171e+01, 1.02776813e+02, 2.85350857e+02, 2.34846280e+01,\n",
       "         3.39895799e+02, 1.18433232e+02, 1.81816475e+01, 2.52522882e+01,\n",
       "         1.36362356e+01, 1.51513729e+00]]))"
      ]
     },
     "execution_count": 4,
     "metadata": {},
     "output_type": "execute_result"
    }
   ],
   "source": [
    "stats.chi2_contingency(net_crosstab)"
   ]
  },
  {
   "cell_type": "markdown",
   "metadata": {},
   "source": [
    "#There is not a significant relationship between the genre types and rating. So the rating of the movies does not affect the genre."
   ]
  }
 ],
 "metadata": {
  "kernelspec": {
   "display_name": "Python 3",
   "language": "python",
   "name": "python3"
  },
  "language_info": {
   "codemirror_mode": {
    "name": "ipython",
    "version": 3
   },
   "file_extension": ".py",
   "mimetype": "text/x-python",
   "name": "python",
   "nbconvert_exporter": "python",
   "pygments_lexer": "ipython3",
   "version": "3.8.3"
  }
 },
 "nbformat": 4,
 "nbformat_minor": 4
}
